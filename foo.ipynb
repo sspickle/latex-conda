{
 "cells": [
  {
   "cell_type": "code",
   "execution_count": null,
   "id": "467871a7",
   "metadata": {
    "vscode": {
     "languageId": "plaintext"
    }
   },
   "outputs": [],
   "source": []
  }
 ],
 "metadata": {
  "language_info": {
   "name": "python"
  }
 },
 "nbformat": 4,
 "nbformat_minor": 5
}
